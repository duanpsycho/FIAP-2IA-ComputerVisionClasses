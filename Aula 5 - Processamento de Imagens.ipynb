{
 "cells": [
  {
   "cell_type": "markdown",
   "metadata": {},
   "source": [
    "## Aula 5 - Processamento  de Imagens"
   ]
  },
  {
   "cell_type": "markdown",
   "metadata": {},
   "source": [
    "### Classificadores "
   ]
  },
  {
   "cell_type": "code",
   "execution_count": 1,
   "metadata": {},
   "outputs": [
    {
     "name": "stdout",
     "output_type": "stream",
     "text": [
      "3.4.1\n"
     ]
    }
   ],
   "source": [
    "import cv2\n",
    "print(cv2.__version__)\n",
    "\n",
    "import numpy as np\n",
    "\n",
    "from matplotlib import pyplot as plt\n",
    "import matplotlib.image as mpimg\n",
    "\n",
    "%matplotlib inline\n",
    "\n",
    "plt.style.use('seaborn')"
   ]
  },
  {
   "cell_type": "code",
   "execution_count": 2,
   "metadata": {},
   "outputs": [],
   "source": [
    "# Carregando o Classificador\n",
    "face_classifier = cv2.CascadeClassifier('classificadores/haarcascade_frontalface_default.xml')\n",
    "\n",
    "image = cv2.imread('imagens/silvio.jpg')\n",
    "gray = cv2.cvtColor(image, cv2.COLOR_BGR2GRAY)\n",
    "\n",
    "faces = face_classifier.detectMultiScale(gray, 1.3, 5)\n",
    "\n",
    "# When no faces detected, face_classifier returns and empty tuple\n",
    "if faces is ():\n",
    "     cv2.putText(image, \"Rosto ausente\", (50,50), cv2.FONT_HERSHEY_SIMPLEX, 1, (0,255,0), 6)\n",
    "    \n",
    "\n",
    "# Desenhando retângulos nos rostos identificados\n",
    "for (x,y,w,h) in faces:\n",
    "    cv2.rectangle(image, (x,y), (x+w,y+h), (127,0,255), 2)\n",
    "    cv2.imshow('Face Detection', image)\n",
    "    \n",
    "cv2.waitKey(0)    \n",
    "cv2.destroyAllWindows()"
   ]
  },
  {
   "cell_type": "code",
   "execution_count": 3,
   "metadata": {},
   "outputs": [],
   "source": [
    "# Utilizando capturas de video\n",
    "def identificar_rosto(imagem):\n",
    "    face_classifier = cv2.CascadeClassifier('classificadores/haarcascade_frontalface_default.xml')\n",
    "\n",
    "    gray = cv2.cvtColor(imagem, cv2.COLOR_BGR2GRAY)\n",
    "    faces = face_classifier.detectMultiScale(gray, 1.3, 5)\n",
    "\n",
    "    if faces is ():\n",
    "         cv2.putText(imagem, \"Sorriso ausente\", (50,50), cv2.FONT_HERSHEY_SIMPLEX, 1, (0,255,0), 6)\n",
    "\n",
    "    for (x,y,w,h) in faces:\n",
    "        cv2.rectangle(imagem, (x,y), (x+w,y+h), (127,0,255), 2)\n",
    "\n",
    "    return imagem"
   ]
  },
  {
   "cell_type": "code",
   "execution_count": 4,
   "metadata": {},
   "outputs": [],
   "source": [
    "# Junto com o classificador de rosto, localiza o sorriso\n",
    "def identificar_sorriso(imagem):\n",
    "    face_classifier = cv2.CascadeClassifier('classificadores/haarcascade_frontalface_default.xml')\n",
    "    smile_classifier = cv2.CascadeClassifier('classificadores/haarcascade_smile.xml')\n",
    "\n",
    "    gray = cv2.cvtColor(imagem, cv2.COLOR_BGR2GRAY)\n",
    "    faces = face_classifier.detectMultiScale(gray, 1.3, 5)\n",
    "\n",
    "    if faces is ():\n",
    "         cv2.putText(imagem, \"ROSTO AUSENTE\", (50,50), cv2.FONT_HERSHEY_SIMPLEX, 2, (0,0,255), 2)\n",
    "\n",
    "    for (x,y,w,h) in faces:\n",
    "        \n",
    "        cv2.rectangle(imagem, (x, y), (x+w, y+h), (0, 0, 255), 2)\n",
    "        roi_gray = gray[y:y+h, x:x+w]\n",
    "        roi_color = imagem[y:y+h, x:x+w]\n",
    "        \n",
    "        smile = smile_classifier.detectMultiScale(\n",
    "            roi_gray,\n",
    "            scaleFactor= 1.7,\n",
    "            minNeighbors=22,\n",
    "            minSize=(25, 25),\n",
    "            flags=cv2.CASCADE_SCALE_IMAGE\n",
    "            )\n",
    "\n",
    "        # Set region of interest for smiles\n",
    "        for (x, y, w, h) in smile:\n",
    "            cv2.rectangle(roi_color, (x, y), (x+w, y+h), (255, 0, 0), 1)\n",
    "            tamanho = int(w) * int(h)\n",
    "            cv2.putText(imagem, \"SORRISO [%s]\"%(tamanho), (50,80), cv2.FONT_HERSHEY_SIMPLEX, 2, (255,0,0), 2)\n",
    "            break\n",
    "\n",
    "    return imagem"
   ]
  },
  {
   "cell_type": "code",
   "execution_count": 24,
   "metadata": {},
   "outputs": [],
   "source": [
    "# Classificador gerado através do Cascade Trainger GUI, para identificar uma bola nas imagens\n",
    "def identificar_bola(imagem):\n",
    "    ball_classifier = cv2.CascadeClassifier('ball/classifier/cascade.xml')\n",
    "  \n",
    "    gray = cv2.cvtColor(imagem, cv2.COLOR_BGR2GRAY)\n",
    "    balls = ball_classifier.detectMultiScale(gray, 1.3, 3)\n",
    "\n",
    "    for (x,y,w,h) in balls:\n",
    "        roi = imagem[y:y+h, x:x+w]\n",
    "        area = int(w) * int(h)\n",
    "        if area > 1500:\n",
    "            cv2.rectangle(imagem, (x,y), (x+w,y+h), (127,0,255), 2)\n",
    "            cv2.putText(imagem, \"BOLA\", (x,y-20), cv2.FONT_HERSHEY_PLAIN, 2, (0,0,255), 1)\n",
    "        \n",
    "    return imagem"
   ]
  },
  {
   "cell_type": "code",
   "execution_count": 25,
   "metadata": {},
   "outputs": [],
   "source": [
    "# Utilizando o classificador para identificar o objeto em video\n",
    "# Utilizar sleep para limitar os frames gerados durante o video\n",
    "# time.sleep(<segundos>)import time\n",
    "\n",
    "import time\n",
    "\n",
    "cam_capture = cv2.VideoCapture(\"videos/soccer.avi\")\n",
    "\n",
    "while True:\n",
    "    ret, image_frame = cam_capture.read()\n",
    "    \n",
    "    if ret:\n",
    "        image_frame = identificar_bola(image_frame)\n",
    "        cv2.imshow(\"Identificar bolas\", image_frame)\n",
    "\n",
    "        if cv2.waitKey(1) == 13:\n",
    "            break\n",
    "    else:\n",
    "        break\n",
    "        \n",
    "cam_capture.release()\n",
    "cv2.destroyAllWindows()"
   ]
  },
  {
   "cell_type": "code",
   "execution_count": 8,
   "metadata": {},
   "outputs": [],
   "source": [
    "# Classificador de Pessoas\n",
    "def identificar_bodies(imagem):\n",
    "    body_classifier = cv2.CascadeClassifier('classificadores/haarcascade_fullbody.xml')\n",
    "  \n",
    "    gray = cv2.cvtColor(imagem, cv2.COLOR_BGR2GRAY)\n",
    "    bodies = body_classifier.detectMultiScale(gray, 1.2, 3)\n",
    "\n",
    "    for (x,y,w,h) in bodies:\n",
    "        roi = imagem[y:y+h, x:x+w]\n",
    "        area = int(w) * int(h)\n",
    "        cv2.rectangle(imagem, (x,y), (x+w,y+h), (127,0,255), 2)\n",
    "        cv2.putText(imagem, \"PEDESTRE\", (x,y-20), cv2.FONT_HERSHEY_PLAIN, 2, (0,0,255), 1)\n",
    "        \n",
    "    return imagem"
   ]
  },
  {
   "cell_type": "code",
   "execution_count": 9,
   "metadata": {},
   "outputs": [],
   "source": [
    "# Identificador de Carros\n",
    "def identificar_carros(imagem):\n",
    "    cars_classifier = cv2.CascadeClassifier('classificadores/haarcascade_car.xml')\n",
    "  \n",
    "    gray = cv2.cvtColor(imagem, cv2.COLOR_BGR2GRAY)\n",
    "    cars = cars_classifier.detectMultiScale(gray, 1.2, 3)\n",
    "\n",
    "    for (x,y,w,h) in cars:\n",
    "        roi = imagem[y:y+h, x:x+w]\n",
    "        area = int(w) * int(h)\n",
    "        cv2.rectangle(imagem, (x,y), (x+w,y+h), (127,0,255), 2)\n",
    "        cv2.putText(imagem, \"CARRO\", (x,y-20), cv2.FONT_HERSHEY_PLAIN, 2, (0,0,255), 1)\n",
    "        \n",
    "    return imagem"
   ]
  },
  {
   "cell_type": "code",
   "execution_count": 10,
   "metadata": {},
   "outputs": [],
   "source": [
    "cam_capture = cv2.VideoCapture(\"videos/walking.avi\")\n",
    "\n",
    "# Analisando pessoas no video\n",
    "while True:\n",
    "    ret, image_frame = cam_capture.read()\n",
    "    \n",
    "    if ret:\n",
    "        image_frame = identificar_bodies(image_frame)\n",
    "        cv2.imshow(\"Identificar bolas\", image_frame)\n",
    "\n",
    "        if cv2.waitKey(1) == 13:\n",
    "            break\n",
    "    else:\n",
    "        break\n",
    "        \n",
    "cam_capture.release()\n",
    "cv2.destroyAllWindows()"
   ]
  },
  {
   "cell_type": "code",
   "execution_count": 13,
   "metadata": {},
   "outputs": [],
   "source": [
    "cam_capture = cv2.VideoCapture(\"videos/cars.avi\")\n",
    "\n",
    "# Identificando os carros no video\n",
    "while True:\n",
    "    ret, image_frame = cam_capture.read()\n",
    "    \n",
    "    if ret:\n",
    "        image_frame = identificar_carros(image_frame)\n",
    "        cv2.imshow(\"Identificar bolas\", image_frame)\n",
    "\n",
    "        if cv2.waitKey(1) == 13:\n",
    "            break\n",
    "    else:\n",
    "        break\n",
    "        \n",
    "cam_capture.release()\n",
    "cv2.destroyAllWindows()"
   ]
  },
  {
   "cell_type": "markdown",
   "metadata": {},
   "source": [
    "## Desafio 1\n",
    "Pesquise no repositório de classificadores pré-treinados de Haar, um classificador de sorriso e exiba em tela a área referente ao retângulo do sorriso detectado.  \n",
    "Por se tratar de um componente de face, avalie combinar mais que um classificador."
   ]
  },
  {
   "cell_type": "code",
   "execution_count": 14,
   "metadata": {},
   "outputs": [],
   "source": [
    "# Identificador de sorrisos\n",
    "def identificar_sorriso(imagem):\n",
    "    face_classifier = cv2.CascadeClassifier('classificadores/haarcascade_frontalface_default.xml')\n",
    "    smile_classifier = cv2.CascadeClassifier('classificadores/haarcascade_smile.xml')\n",
    "\n",
    "    gray = cv2.cvtColor(imagem, cv2.COLOR_BGR2GRAY)\n",
    "    faces = face_classifier.detectMultiScale(gray, 1.3, 5)\n",
    "\n",
    "    if faces is ():\n",
    "         cv2.putText(imagem, \"ROSTO AUSENTE\", (50,50), cv2.FONT_HERSHEY_SIMPLEX, 2, (0,0,255), 2)\n",
    "\n",
    "    for (x,y,w,h) in faces:\n",
    "        \n",
    "        cv2.rectangle(imagem, (x, y), (x+w, y+h), (0, 0, 255), 2)\n",
    "        roi_gray = gray[y:y+h, x:x+w]\n",
    "        roi_color = imagem[y:y+h, x:x+w]\n",
    "        \n",
    "        smile = smile_classifier.detectMultiScale(\n",
    "            roi_gray,\n",
    "            scaleFactor= 1.7,\n",
    "            minNeighbors=22,\n",
    "            minSize=(25, 25),\n",
    "            flags=cv2.CASCADE_SCALE_IMAGE\n",
    "            )\n",
    "\n",
    "        # Set region of interest for smiles\n",
    "        for (x, y, w, h) in smile:\n",
    "            cv2.rectangle(roi_color, (x, y), (x+w, y+h), (255, 0, 0), 1)\n",
    "            tamanho = int(w) * int(h)\n",
    "            cv2.putText(imagem, \"SORRISO [%s]\"%(tamanho), (50,80), cv2.FONT_HERSHEY_SIMPLEX, 2, (255,0,0), 2)\n",
    "            break\n",
    "\n",
    "    return imagem"
   ]
  },
  {
   "cell_type": "code",
   "execution_count": 28,
   "metadata": {},
   "outputs": [],
   "source": [
    "# Subindo imagem\n",
    "image = cv2.imread('imagens/wolv.jpg')\n",
    "\n",
    "new_image = identificar_sorriso(image)\n",
    "cv2.imshow('Detector de Sorrisos', new_image)\n",
    "    \n",
    "cv2.waitKey(0)    \n",
    "cv2.destroyAllWindows()"
   ]
  },
  {
   "cell_type": "markdown",
   "metadata": {},
   "source": [
    "## Marcos Faciais\n"
   ]
  },
  {
   "cell_type": "code",
   "execution_count": 30,
   "metadata": {},
   "outputs": [
    {
     "ename": "ModuleNotFoundError",
     "evalue": "No module named 'dlib'",
     "output_type": "error",
     "traceback": [
      "\u001b[1;31m---------------------------------------------------------------------------\u001b[0m",
      "\u001b[1;31mModuleNotFoundError\u001b[0m                       Traceback (most recent call last)",
      "\u001b[1;32m<ipython-input-30-5f2bd254e324>\u001b[0m in \u001b[0;36m<module>\u001b[1;34m()\u001b[0m\n\u001b[1;32m----> 1\u001b[1;33m \u001b[1;32mimport\u001b[0m \u001b[0mdlib\u001b[0m\u001b[1;33m\u001b[0m\u001b[0m\n\u001b[0m\u001b[0;32m      2\u001b[0m \u001b[1;32mimport\u001b[0m \u001b[0mnumpy\u001b[0m\u001b[1;33m\u001b[0m\u001b[0m\n\u001b[0;32m      3\u001b[0m \u001b[1;33m\u001b[0m\u001b[0m\n\u001b[0;32m      4\u001b[0m \u001b[0mpredictor_68_path\u001b[0m \u001b[1;33m=\u001b[0m \u001b[1;34m\"modelos/shape_predictor_68_face_landmarks.dat\"\u001b[0m\u001b[1;33m\u001b[0m\u001b[0m\n\u001b[0;32m      5\u001b[0m \u001b[0mpredictor_5_path\u001b[0m \u001b[1;33m=\u001b[0m \u001b[1;34m\"modelos/shape_predictor_5_face_landmarks.dat\"\u001b[0m\u001b[1;33m\u001b[0m\u001b[0m\n",
      "\u001b[1;31mModuleNotFoundError\u001b[0m: No module named 'dlib'"
     ]
    }
   ],
   "source": [
    "import dlib\n",
    "import numpy \n",
    "\n",
    "predictor_68_path = \"modelos/shape_predictor_68_face_landmarks.dat\"\n",
    "predictor_5_path = \"modelos/shape_predictor_5_face_landmarks.dat\"\n",
    "\n",
    "predictor = dlib.shape_predictor(predictor_68_path)\n",
    "detector = dlib.get_frontal_face_detector()\n",
    "\n",
    "\n",
    "def get_landmarks(im):\n",
    "    rects = detector(im, 1)\n",
    "\n",
    "    if len(rects) > 1:\n",
    "        raise Exception(\"Encontrado mais de uma face\")\n",
    "    if len(rects) == 0:\n",
    "        raise Exception(\"Sem face\")\n",
    "\n",
    "    return numpy.matrix([[p.x, p.y] for p in predictor(im, rects[0]).parts()])\n",
    "\n",
    "def annotate_landmarks(im, landmarks):\n",
    "    im = im.copy()\n",
    "    for idx, point in enumerate(landmarks):\n",
    "        pos = (point[0, 0], point[0, 1])\n",
    "        cv2.putText(im, str(idx), pos,\n",
    "                    fontFace=cv2.FONT_HERSHEY_SCRIPT_SIMPLEX,\n",
    "                    fontScale=0.4,\n",
    "                    \n",
    "                    color=(0, 0, 255))\n",
    "        cv2.circle(im, pos, 3, color=(0, 255, 255))\n",
    "    return im\n",
    "\n",
    "def get_landmarks_multiple(im):\n",
    "    rects = detector(im, 1)\n",
    "\n",
    "    if len(rects) == 0:\n",
    "        raise Exception(\"Sem face\")\n",
    "        \n",
    "    landmarks = []\n",
    "    for rect in rects:\n",
    "        landmarks.append(numpy.matrix([[p.x, p.y] for p in predictor(im, rect).parts()]))\n",
    "\n",
    "    return landmarks\n",
    "\n",
    "def annotate_landmarks_multiple(im, landmarks):\n",
    "    im = im.copy()\n",
    "    \n",
    "    for landmark in landmarks:\n",
    "        for idx, point in enumerate(landmark):\n",
    "            pos = (point[0, 0], point[0, 1])\n",
    "            cv2.putText(im, str(idx), pos,\n",
    "                        fontFace=cv2.FONT_HERSHEY_SCRIPT_SIMPLEX,\n",
    "                        fontScale=0.4,\n",
    "\n",
    "                        color=(0, 0, 255))\n",
    "            cv2.circle(im, pos, 3, color=(0, 255, 255))\n",
    "    return im\n",
    "\n",
    "image = cv2.imread('imagens/silvio.jpg')\n",
    "landmarks = get_landmarks_multiple(image)\n",
    "image_with_landmarks = annotate_landmarks_multiple(image, landmarks)\n",
    "\n",
    "cv2.imshow('Result', image_with_landmarks)\n",
    "cv2.imwrite('imagens/silvio_landmarks.jpg',image_with_landmarks)\n",
    "cv2.waitKey(0)\n",
    "cv2.destroyAllWindows()"
   ]
  },
  {
   "cell_type": "markdown",
   "metadata": {},
   "source": [
    "## Desafio 2  \n",
    "Construa um detector de bocejos que por meio da identificação de regiões da face calcule a área da boca e indique quando há ou não um bocejo.  \n",
    "Crie um contador de bocejos e que as informações sejam exibidas em tempo real utilizando uma webcam."
   ]
  },
  {
   "cell_type": "code",
   "execution_count": 32,
   "metadata": {},
   "outputs": [],
   "source": [
    "import cv2\n",
    "from matplotlib import pyplot as plt\n",
    "import numpy as np"
   ]
  },
  {
   "cell_type": "code",
   "execution_count": 35,
   "metadata": {},
   "outputs": [],
   "source": [
    "# Pegar o resultado no Git depois, no Lab estou sem a dlib para fazer o exercicio."
   ]
  }
 ],
 "metadata": {
  "kernelspec": {
   "display_name": "Python 3",
   "language": "python",
   "name": "python3"
  },
  "language_info": {
   "codemirror_mode": {
    "name": "ipython",
    "version": 3
   },
   "file_extension": ".py",
   "mimetype": "text/x-python",
   "name": "python",
   "nbconvert_exporter": "python",
   "pygments_lexer": "ipython3",
   "version": "3.6.4"
  }
 },
 "nbformat": 4,
 "nbformat_minor": 2
}
